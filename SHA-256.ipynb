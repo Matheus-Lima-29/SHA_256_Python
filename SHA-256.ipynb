{
 "metadata": {
  "language_info": {
   "codemirror_mode": {
    "name": "ipython",
    "version": 3
   },
   "file_extension": ".py",
   "mimetype": "text/x-python",
   "name": "python",
   "nbconvert_exporter": "python",
   "pygments_lexer": "ipython3",
   "version": "3.8.5"
  },
  "orig_nbformat": 2,
  "kernelspec": {
   "name": "python385jvsc74a57bd0c41956a2edae6cb76a24749fd50dd680cfaf58c4f20385015a6f0bab663b7fc0",
   "display_name": "Python 3.8.5 64-bit"
  },
  "metadata": {
   "interpreter": {
    "hash": "c41956a2edae6cb76a24749fd50dd680cfaf58c4f20385015a6f0bab663b7fc0"
   }
  }
 },
 "nbformat": 4,
 "nbformat_minor": 2,
 "cells": [
  {
   "source": [
    "# Implementação passo a passo do HASH SHA-256"
   ],
   "cell_type": "markdown",
   "metadata": {}
  },
  {
   "source": [
    "# ---Primeiro passo: Operações básicas---"
   ],
   "cell_type": "markdown",
   "metadata": {}
  },
  {
   "source": [
    "## - Operação SHR (Shift Right) ou Descolamento para a Direita\n",
    "\n",
    "<img src=\"images/shr.gif\" width=\"700\" align=\"center\">"
   ],
   "cell_type": "markdown",
   "metadata": {}
  },
  {
   "cell_type": "code",
   "execution_count": 1,
   "metadata": {},
   "outputs": [],
   "source": [
    "# SHR\n",
    "def SHR(palavra, deslocamento):\n",
    "    if len(palavra) != 32:\n",
    "        print('A palavra deve conter 32 bits no SHA-256')\n",
    "\n",
    "    for _ in range(deslocamento):\n",
    "        \n",
    "        # Adiciona um '0' no começo da string que não contem o ultimo caractere\n",
    "        palavra = '0' + palavra[:-1] \n",
    "    \n",
    "    return palavra"
   ]
  },
  {
   "source": [
    "## - Operação ROTR (Rotation Right) ou Rotação para a direita\n",
    "\n",
    "<img src=\"images/rotr.gif\" width=\"700\" align=\"center\">"
   ],
   "cell_type": "markdown",
   "metadata": {}
  },
  {
   "cell_type": "code",
   "execution_count": 2,
   "metadata": {},
   "outputs": [],
   "source": [
    "# ROTR\n",
    "def ROTR(palavra, deslocamento):\n",
    "    if len(palavra) != 32:\n",
    "        print('A palavra deve conter 32 bits no SHA-256')\n",
    "\n",
    "    for _ in range(deslocamento):\n",
    "        #Seleciona o ultimo caractere e concatena na mesma string sem o ultimo caractere\n",
    "        palavra = palavra[-1] + palavra[:-1] \n",
    "    \n",
    "    return palavra"
   ]
  },
  {
   "source": [
    "## - Operação XOR (Exclusive OR) ou 'OU exclusivo'\n",
    "\n",
    "<img src=\"images/xor.gif\" width=\"700\" align=\"center\">"
   ],
   "cell_type": "markdown",
   "metadata": {}
  },
  {
   "cell_type": "code",
   "execution_count": 3,
   "metadata": {},
   "outputs": [],
   "source": [
    "def XOR(palavra_1, palavra_2):\n",
    "    if len(palavra_1) != 32 or len(palavra_2) != 32:\n",
    "        print('A palavra deve conter 32 bits no SHA-256')\n",
    "\n",
    "    palavra_resultante = ''\n",
    "    \n",
    "    for bit_palavra_1, bit_palavra_2 in zip(palavra_1, palavra_2):\n",
    "        if(bit_palavra_1 == bit_palavra_2):\n",
    "            palavra_resultante += '0'\n",
    "        else:\n",
    "            palavra_resultante += '1'\n",
    "\n",
    "    \n",
    "    return palavra_resultante"
   ]
  },
  {
   "source": [
    "## - Operação ADD (Addition) ou Adição\n",
    "\n",
    "<img src=\"images/add.gif\" width=\"700\" align=\"center\">"
   ],
   "cell_type": "markdown",
   "metadata": {}
  },
  {
   "cell_type": "code",
   "execution_count": 4,
   "metadata": {},
   "outputs": [],
   "source": [
    "def ADD(*palavras):\n",
    "\n",
    "    resultante = 0\n",
    "    for palavra in palavras:\n",
    "        if len(palavra) != 32:\n",
    "            print('A palavra deve conter 32 bits no SHA-256')\n",
    "            return\n",
    "        resultante += int(palavra, 2) # Converte do binário para Decimal\n",
    "\n",
    "    palavra_resultante = format(resultante % (2** 32), '032b') \n",
    "\n",
    "    return palavra_resultante"
   ]
  },
  {
   "source": [
    "# --- Segundo passo: Funções ---"
   ],
   "cell_type": "markdown",
   "metadata": {}
  },
  {
   "source": [
    "## - Função σ0 (sigma 0 minúsculo)\n",
    " \n",
    " <img src=\"images/sigma0.gif\" width=\"700\" align=\"center\">"
   ],
   "cell_type": "markdown",
   "metadata": {}
  },
  {
   "cell_type": "code",
   "execution_count": 5,
   "metadata": {},
   "outputs": [],
   "source": [
    "def L_sigma0(palavra):\n",
    "    if len(palavra) != 32:\n",
    "        print('A palavra deve conter 32 bits no SHA-256')\n",
    "    \n",
    "    palavra_rotr_7 = ROTR(palavra, 7)\n",
    "    palavra_rotr_18 = ROTR(palavra, 18)\n",
    "    palavra_shr_3 = SHR(palavra, 3)\n",
    "\n",
    "    palavra_resultante = XOR( XOR(palavra_rotr_7, palavra_rotr_18), palavra_shr_3 )\n",
    "\n",
    "    return palavra_resultante"
   ]
  },
  {
   "source": [
    "## - Função σ1 (sigma 1 minúsculo)\n",
    "\n",
    "<img src=\"images/sigma1.gif\" width=\"700\" align=\"center\">"
   ],
   "cell_type": "markdown",
   "metadata": {}
  },
  {
   "cell_type": "code",
   "execution_count": 6,
   "metadata": {},
   "outputs": [],
   "source": [
    "def L_sigma1(palavra):\n",
    "    if len(palavra) != 32:\n",
    "        print('A palavra deve conter 32 bits no SHA-256')\n",
    "    \n",
    "    palavra_rotr_17 = ROTR(palavra, 17)\n",
    "    palavra_rotr_19 = ROTR(palavra, 19)\n",
    "    palavra_shr_10 = SHR(palavra, 10)\n",
    "\n",
    "    palavra_resultante = XOR( XOR(palavra_rotr_17, palavra_rotr_19), palavra_shr_10 )\n",
    "\n",
    "    return palavra_resultante"
   ]
  },
  {
   "source": [
    "## - Função Σ0 (sigma 0 maiúsculo)\n",
    "\n",
    "<img src=\"images/usigma0.gif\" width=\"700\" align=\"center\">"
   ],
   "cell_type": "markdown",
   "metadata": {}
  },
  {
   "cell_type": "code",
   "execution_count": 7,
   "metadata": {},
   "outputs": [],
   "source": [
    "def U_sigma0(palavra):\n",
    "    if len(palavra) != 32:\n",
    "        print('A palavra deve conter 32 bits no SHA-256')\n",
    "    \n",
    "    palavra_rotr_2 = ROTR(palavra, 2)\n",
    "    palavra_rotr_13 = ROTR(palavra, 13)\n",
    "    palavra_rotr_22 = ROTR(palavra, 22)\n",
    "\n",
    "    palavra_resultante = XOR( XOR(palavra_rotr_2, palavra_rotr_13), palavra_rotr_22 )\n",
    "\n",
    "    return palavra_resultante"
   ]
  },
  {
   "source": [
    "## - Função Σ1 (sigma 1 maiúsculo)\n",
    "\n",
    "<img src=\"images/usigma1.gif\" width=\"700\" align=\"center\">"
   ],
   "cell_type": "markdown",
   "metadata": {}
  },
  {
   "cell_type": "code",
   "execution_count": 8,
   "metadata": {},
   "outputs": [],
   "source": [
    "def U_sigma1(palavra):\n",
    "    if len(palavra) != 32:\n",
    "        print('A palavra deve conter 32 bits no SHA-256')\n",
    "    \n",
    "    palavra_rotr_6 = ROTR(palavra, 6)\n",
    "    palavra_rotr_11 = ROTR(palavra, 11)\n",
    "    palavra_rotr_25 = ROTR(palavra, 25)\n",
    "\n",
    "    palavra_resultante = XOR( XOR(palavra_rotr_6, palavra_rotr_11), palavra_rotr_25 )\n",
    "\n",
    "    return palavra_resultante"
   ]
  },
  {
   "source": [
    "## - Função CH (Choice) ou 'Escolha'\n",
    "\n",
    "<img src=\"images/ch.gif\" width=\"700\" align=\"center\">"
   ],
   "cell_type": "markdown",
   "metadata": {}
  },
  {
   "cell_type": "code",
   "execution_count": 9,
   "metadata": {},
   "outputs": [],
   "source": [
    "def CH(palavra_x, palavra_y, palavra_z):\n",
    "    if len(palavra_x) != 32 or len(palavra_y) != 32 or len(palavra_z) != 32:\n",
    "        print('A palavra deve conter 32 bits no SHA-256')\n",
    "\n",
    "    palavra_resultante = ''\n",
    "    \n",
    "    for bit_x, bit_y, bit_z in zip(palavra_x, palavra_y, palavra_z):\n",
    "        if(bit_x == '1'):\n",
    "            palavra_resultante += bit_y\n",
    "        else:\n",
    "            palavra_resultante += bit_z\n",
    "    \n",
    "    return palavra_resultante"
   ]
  },
  {
   "source": [
    "## - Função MAJ (Majority) ou 'Maioria'\n",
    "\n",
    "<img src=\"images/maj.gif\" width=\"700\" align=\"center\">"
   ],
   "cell_type": "markdown",
   "metadata": {}
  },
  {
   "cell_type": "code",
   "execution_count": 10,
   "metadata": {},
   "outputs": [],
   "source": [
    "def MAJ(palavra_x, palavra_y, palavra_z):\n",
    "    if len(palavra_x) != 32 or len(palavra_y) != 32 or len(palavra_z) != 32:\n",
    "        print('A palavra deve conter 32 bits no SHA-256')\n",
    "\n",
    "    palavra_resultante = ''\n",
    "    \n",
    "    for bit_x, bit_y, bit_z in zip(palavra_x, palavra_y, palavra_z):\n",
    "\n",
    "        bit_3 = int(bit_x) + int(bit_y) + int(bit_z)\n",
    "        \n",
    "        if bit_3 >= 2:\n",
    "            palavra_resultante += '1'\n",
    "        else:\n",
    "            palavra_resultante += '0'\n",
    "    \n",
    "    return palavra_resultante"
   ]
  },
  {
   "source": [
    "# --- Terceiro Passo: Constantes ---"
   ],
   "cell_type": "markdown",
   "metadata": {}
  },
  {
   "source": [
    "## - Descobrir os primeiros N números primos (Desconsiderando o 1)"
   ],
   "cell_type": "markdown",
   "metadata": {}
  },
  {
   "cell_type": "code",
   "execution_count": 27,
   "metadata": {},
   "outputs": [],
   "source": [
    "def primos(n):\n",
    "    primos = []\n",
    "    numero = 2\n",
    "\n",
    "    while(len(primos) < n):\n",
    "        isPrimo = True\n",
    "        for X in range(numero-1, 1, -1):\n",
    "            if(numero % X == 0):\n",
    "                isPrimo = False\n",
    "        \n",
    "        if(isPrimo):\n",
    "            primos.append(numero)\n",
    "\n",
    "        numero += 1\n",
    "    \n",
    "    return primos"
   ]
  },
  {
   "source": [
    "## - Usar a raíz cúbica de cada primo para calcular as constantes\n",
    "### - SHA-256 usa um total de 64 constantes\n",
    "\n",
    "<img src=\"images/constants.gif\" width=\"700\" align=\"center\">"
   ],
   "cell_type": "markdown",
   "metadata": {}
  },
  {
   "cell_type": "code",
   "execution_count": 12,
   "metadata": {},
   "outputs": [],
   "source": [
    "def const(k):\n",
    "\n",
    "    const_primos = primos(k)\n",
    "    constantes = []\n",
    "\n",
    "\n",
    "    for primo in const_primos:\n",
    "\n",
    "        raiz = primo ** (1/3)\n",
    "        fracao = raiz - int(raiz)\n",
    "        hexa = ''\n",
    "\n",
    "        # Equivalente a fazer: fracao * (2^32) uma única vez\n",
    "        for _ in range(8):\n",
    "        \n",
    "            produto = fracao * 16\n",
    "            inteira = int(produto)\n",
    "            fracao = produto - int(produto)\n",
    "            hexa += hex(inteira).replace('0x', '')\n",
    "        \n",
    "        constantes.append( '{0:032b}'.format( int(hexa, 16) ) )\n",
    "    \n",
    "    return constantes"
   ]
  },
  {
   "source": [
    "# - Quarto Passo: Mensagem, Padding, Blocos"
   ],
   "cell_type": "markdown",
   "metadata": {}
  },
  {
   "source": [
    "# -- Mensagem --\n",
    "## - Converta a Mensagem de entrada da função SHA-256 para binário\n",
    "\n",
    "<img src=\"images/message.gif\" width=\"700\" align=\"center\">"
   ],
   "cell_type": "markdown",
   "metadata": {}
  },
  {
   "cell_type": "code",
   "execution_count": 13,
   "metadata": {},
   "outputs": [],
   "source": [
    "def mensagem_bin(mensagem):\n",
    "\n",
    "    mensagem_resultante = ''\n",
    "    \n",
    "    for caractere in mensagem:\n",
    "        caractere_binario = '{0:08b}'.format( ord(caractere) )  \n",
    "\n",
    "        mensagem_resultante += caractere_binario\n",
    "    \n",
    "    return mensagem_resultante"
   ]
  },
  {
   "source": [
    "# -- Padding --\n",
    "## - Fazer um padding até que a mensagem tenha uma tamanho de um multiplo de 512\n",
    "## -- A mensagem será: mensagem + 1 + padding(até 448 bits) + tamanho(64 bits)\n",
    "## -- O '1' é para dividir a mensagem do padding\n",
    "## -- O padding é feito até 448 para deixar 64 bits do tamanho no final da mensagem\n",
    "\n",
    "<img src=\"images/padding.gif\" width=\"700\" align=\"center\">\n",
    "\n",
    "### ------ mensagem ------------- padding ---------- tamanho M--\n",
    "### |---------M---------|1|...00000000000000000000|...0000001100|\n",
    "###  <----------------- 448 bits -----------------> <- 64 bits ->"
   ],
   "cell_type": "markdown",
   "metadata": {}
  },
  {
   "cell_type": "code",
   "execution_count": 14,
   "metadata": {},
   "outputs": [],
   "source": [
    "def padding(mensagem):\n",
    "    \n",
    "    tamanho = len(mensagem)\n",
    "    quant_zeros = (448 - tamanho - 1) % 512\n",
    "    tamanho_bin = '{0:064b}'.format(tamanho)\n",
    "\n",
    "    mensagem_padding = mensagem + '1' + (quant_zeros*'0') + tamanho_bin\n",
    "\n",
    "    return mensagem_padding"
   ]
  },
  {
   "source": [
    "# -- Blocos --\n",
    "\n",
    "## - Quebrar a mensagem em blocos de 512 bits\n",
    "\n",
    "<img src=\"images/blocks.gif\" width=\"700\" align=\"center\">"
   ],
   "cell_type": "markdown",
   "metadata": {}
  },
  {
   "cell_type": "code",
   "execution_count": 15,
   "metadata": {},
   "outputs": [],
   "source": [
    "def blocks(mensagem_padding):\n",
    "\n",
    "    blocos = []\n",
    "    quant_blocks = int(len(mensagem_padding)/512)\n",
    "\n",
    "    for n in range(quant_blocks):\n",
    "        inicio = (n*512)\n",
    "        final = ((n+1)*512)\n",
    "\n",
    "        bloco = mensagem_padding[inicio : final]\n",
    "        blocos.append(bloco)\n",
    "    \n",
    "    return blocos"
   ]
  },
  {
   "source": [
    "# - Quinto Passo: Message Schedule"
   ],
   "cell_type": "markdown",
   "metadata": {}
  },
  {
   "source": [
    "## Para cada bloco:\n",
    "## - O bloco é quebrado em 16 palavras de 32 bits\n",
    "## - SHA-256 opera com 64 palavras, então é necessário gerar as proximas 40\n",
    "\n",
    "<img src=\"images/schedule.gif\" width=\"700\" align=\"center\">\n",
    "\n",
    "## Cada nova palavra é gerada a partir da seguinte formula:\n",
    "## σ1(t-2) + (t-7) + σ0(t-15) + (t-16) \n",
    "## Sendo t o indice da nova palavra gerada\n",
    "\n",
    "<img src=\"images/expansion.gif\" width=\"700\" align=\"center\">"
   ],
   "cell_type": "markdown",
   "metadata": {}
  },
  {
   "cell_type": "code",
   "execution_count": 16,
   "metadata": {},
   "outputs": [],
   "source": [
    "def mensage_schedule(block):\n",
    "\n",
    "    palavras_mensage_schedule = []\n",
    "\n",
    "    for n in range(16):\n",
    "        inicio = (n*32)\n",
    "        final = ((n+1)*32)\n",
    "\n",
    "        palavra_nova = block[inicio : final]\n",
    "        palavras_mensage_schedule.append(palavra_nova)\n",
    "    \n",
    "\n",
    "    for t in range(16, 64):\n",
    "\n",
    "        palavra_nova = ADD( L_sigma1(palavras_mensage_schedule[t-2]), \n",
    "                        palavras_mensage_schedule[t-7], \n",
    "                        L_sigma0(palavras_mensage_schedule[t - 15]), \n",
    "                        palavras_mensage_schedule[t-16])\n",
    "\n",
    "        palavras_mensage_schedule.append(palavra_nova)\n",
    "    \n",
    "    return palavras_mensage_schedule"
   ]
  },
  {
   "source": [
    "# - Sexto Passo: Compressão"
   ],
   "cell_type": "markdown",
   "metadata": {}
  },
  {
   "source": [
    "## A compressão é feita para cada bloco"
   ],
   "cell_type": "markdown",
   "metadata": {}
  },
  {
   "source": [
    "## São geradas os primeiros valores do Hash (H0)\n",
    "\n",
    "<img src=\"images/initial.gif\" width=\"700\" align=\"center\">"
   ],
   "cell_type": "markdown",
   "metadata": {}
  },
  {
   "cell_type": "code",
   "execution_count": 17,
   "metadata": {},
   "outputs": [],
   "source": [
    "def hash_inicial():\n",
    "\n",
    "    primos_iniciais = primos(8)\n",
    "\n",
    "    state_registers = {\n",
    "        'a': None,\n",
    "        'b': None,\n",
    "        'c': None,\n",
    "        'd': None,\n",
    "        'e': None,\n",
    "        'f': None,\n",
    "        'g': None,\n",
    "        'h': None,\n",
    "    }\n",
    "\n",
    "    for registro, idx_primo in zip(state_registers, range(8)):\n",
    "        raiz = primos_iniciais[idx_primo] ** (1/2)\n",
    "\n",
    "        fracao = raiz - int(raiz)\n",
    "\n",
    "        valor = int( fracao * (2**32) )\n",
    "\n",
    "        valor_bin = '{0:032b}'.format(valor)\n",
    "\n",
    "        state_registers[registro] = valor_bin\n",
    "\n",
    "    return state_registers"
   ]
  },
  {
   "source": [
    "## - Para cada uma das 64 palavras do 'mensage schedule'(Wn) e das constantes(Kn)\n",
    "## são geradas variáveis temporárias T1 e T2 "
   ],
   "cell_type": "markdown",
   "metadata": {}
  },
  {
   "source": [
    "## Formula do T1:\n",
    "## T1 = Σ1(e) + CH(e, f, g) + h + Wn + Kn\n",
    "<img src=\"images/t1.gif\" width=\"700\" align=\"center\">\n",
    "\n",
    "\n",
    "## Formula do T2:\n",
    "## T2 = Σ0(a) + MAJ(a, b, c)\n",
    "<img src=\"images/t2.gif\" width=\"700\" align=\"center\">\n",
    "\n",
    "## A compressão é feita a partir das variáveis temporárias T1 e T2\n",
    "<img src=\"images/compression.gif\" width=\"700\" align=\"center\">"
   ],
   "cell_type": "markdown",
   "metadata": {}
  },
  {
   "cell_type": "code",
   "execution_count": 18,
   "metadata": {},
   "outputs": [],
   "source": [
    "def compressao(msg_schedule, hash_anterior):\n",
    "    constantes = const(64)\n",
    "\n",
    "    compress_hash = hash_anterior.copy()\n",
    "\n",
    "    for Wn, Kn in zip(msg_schedule, constantes):\n",
    "        \n",
    "\n",
    "        # Σ1(e) + CH(e, f, g) + h + Wn + Kn\n",
    "        T1 = ADD(U_sigma1(compress_hash['e']), \n",
    "                 CH(compress_hash['e'], compress_hash['f'], compress_hash['g']),\n",
    "                 compress_hash['h'],\n",
    "                 Wn,\n",
    "                 Kn)\n",
    "\n",
    "        # Σ0(a) + MAJ(a, b, c)\n",
    "        T2 = ADD(U_sigma0(compress_hash['a']),\n",
    "                 MAJ(compress_hash['a'], compress_hash['b'], compress_hash['c']))\n",
    "    \n",
    "        # Shift Down\n",
    "        compress_hash['b'] = compress_hash['a']\n",
    "        compress_hash['c'] = compress_hash['b']\n",
    "        compress_hash['d'] = compress_hash['c']\n",
    "        compress_hash['e'] = compress_hash['d']\n",
    "        compress_hash['f'] = compress_hash['e']\n",
    "        compress_hash['g'] = compress_hash['f']\n",
    "        compress_hash['h'] = compress_hash['g']\n",
    "\n",
    "\n",
    "        compress_hash['a'] = ADD(T1, T2)\n",
    "\n",
    "        compress_hash['e'] = ADD(compress_hash['e'], T1)\n",
    "\n",
    "    for registro in hash_anterior:\n",
    "\n",
    "        compress_hash[registro] = ADD( compress_hash[registro], hash_anterior[registro])\n",
    "    \n",
    "    return compress_hash\n",
    "    "
   ]
  },
  {
   "source": [
    "## A compressão resultante é utilizada como valor inicial do proximo bloco\n",
    "\n",
    "<img src=\"images/merkle-damgard-construction.png\" width=\"700\" align=\"center\">"
   ],
   "cell_type": "markdown",
   "metadata": {}
  },
  {
   "source": [
    "## - O Hash final é convertido para hexadecimal\n",
    "<img src=\"images/final.gif\" width=\"700\" align=\"center\">"
   ],
   "cell_type": "markdown",
   "metadata": {}
  },
  {
   "cell_type": "code",
   "execution_count": 19,
   "metadata": {},
   "outputs": [],
   "source": [
    "def hash_hex(final_hash):\n",
    "\n",
    "    hexa = ''\n",
    "    for registro in final_hash:\n",
    "\n",
    "        hexa += format(int(final_hash[registro], 2), '08x')\n",
    "    \n",
    "    return hexa"
   ]
  },
  {
   "source": [
    "# SHA-256\n",
    "<img src=\"images/sha256.gif\" width=\"700\" align=\"center\">"
   ],
   "cell_type": "markdown",
   "metadata": {}
  },
  {
   "cell_type": "code",
   "execution_count": 21,
   "metadata": {},
   "outputs": [],
   "source": [
    "def SHA_256(mensagem_entrada):\n",
    "\n",
    "    msg_bin = mensagem_bin(mensagem_entrada)\n",
    "\n",
    "    msg_padded = padding(msg_bin)\n",
    "\n",
    "    list_blocos = blocks(msg_padded)\n",
    "\n",
    "    hash_result = hash_inicial()\n",
    "\n",
    "    for bloco in list_blocos:\n",
    "        msg_schd_bloco = mensage_schedule(bloco)\n",
    "\n",
    "        hash_result = compressao(msg_schd_bloco, hash_result)\n",
    "\n",
    "    hexa = hash_hex(hash_result)\n",
    "\n",
    "    return hexa"
   ]
  },
  {
   "cell_type": "code",
   "execution_count": 25,
   "metadata": {
    "tags": []
   },
   "outputs": [
    {
     "output_type": "stream",
     "name": "stdout",
     "text": [
      "1255ba57b90429623a0b6e4fa2ec701731abb91298a1e3691d205488597d47f6\n"
     ]
    }
   ],
   "source": [
    "mensagem = 'Smdplmdpvsmpdvsvrvssdcoampcoamcpeokpeokfpoak'\n",
    "\n",
    "print(SHA_256(mensagem))"
   ]
  }
 ]
}